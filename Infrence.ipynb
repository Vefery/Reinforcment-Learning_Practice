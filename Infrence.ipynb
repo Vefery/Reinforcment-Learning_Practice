{
 "cells": [
  {
   "cell_type": "markdown",
   "metadata": {},
   "source": [
    "## Import libraries"
   ]
  },
  {
   "cell_type": "code",
   "execution_count": 1,
   "metadata": {},
   "outputs": [],
   "source": [
    "import torch\n",
    "import torchrl\n",
    "from tensordict.nn import InteractionType\n",
    "from torch.distributions.normal import Normal\n",
    "import torchrl.envs\n",
    "from torch.distributions.categorical import Categorical\n",
    "import numpy as np\n",
    "import gymnasium as gym"
   ]
  },
  {
   "cell_type": "markdown",
   "metadata": {},
   "source": [
    "## Infrence"
   ]
  },
  {
   "cell_type": "code",
   "execution_count": null,
   "metadata": {},
   "outputs": [],
   "source": [
    "env = GymEnv(\"CartPole-v1\", render_mode=\"human\")\n",
    "\n",
    "model = torch.load(\"models\\pole168_steps_final.pth\")\n",
    "model.cpu()\n",
    "model.eval()\n",
    "\n",
    "with torch.inference_mode(), torchrl.envs.utils.set_exploration_type(InteractionType.MEAN):\n",
    "    env.rollout(500, break_when_any_done=False, policy=model)\n",
    "    env.render()\n",
    "\n",
    "env.close()"
   ]
  },
  {
   "cell_type": "code",
   "execution_count": null,
   "metadata": {},
   "outputs": [],
   "source": [
    "env = gym.make(\"LunarLander-v2\", render_mode=\"human\", wind_power=15, turbulence_power=1.5)\n",
    "\n",
    "model = torch.jit.load(\"models\\lander_final_sv.pth\")\n",
    "model.cpu()\n",
    "model.eval()\n",
    "\n",
    "with torch.inference_mode(), torchrl.envs.utils.set_exploration_type(InteractionType.MEAN):\n",
    "    for i in range(5):\n",
    "        observation, _ = env.reset()\n",
    "        state = torch.tensor(np.array([observation]), dtype=torch.float32)\n",
    "        done = False\n",
    "        score = 0\n",
    "        env.render()\n",
    "        while not done:\n",
    "            dist = model(state)\n",
    "            dist = Categorical(dist)\n",
    "            action = dist.sample()\n",
    "            observation, r, terminated, truncated, _ = env.step(action.item())\n",
    "            score += r\n",
    "            done = terminated or truncated\n",
    "            state = torch.tensor(np.array([observation]), dtype=torch.float32)\n",
    "        print(score)\n",
    "env.close()"
   ]
  },
  {
   "cell_type": "code",
   "execution_count": null,
   "metadata": {},
   "outputs": [],
   "source": [
    "env = gym.make(\"LunarLander-v2\", render_mode=\"human\", wind_power=15, turbulence_power=1.5, continuous=True)\n",
    "\n",
    "model = torch.jit.load(\"models\\lander_final_sv.pth\")\n",
    "model.cpu()\n",
    "model.eval()\n",
    "\n",
    "with torch.inference_mode(), torchrl.envs.utils.set_exploration_type(InteractionType.MEAN):\n",
    "    for i in range(5):\n",
    "        observation, _ = env.reset()\n",
    "        state = torch.tensor(np.array([observation]), dtype=torch.float32)\n",
    "        done = False\n",
    "        score = 0\n",
    "        env.render()\n",
    "        while not done:\n",
    "            res = model(state)\n",
    "            loc, scale = res.chunk(2, -1)\n",
    "            scale = torch.nn.functional.softplus(scale).clamp_min(1e-4)\n",
    "            dist = Normal(loc, scale)\n",
    "            action = dist.sample()\n",
    "            observation, r, terminated, truncated, _ = env.step(action.item())\n",
    "            score += r\n",
    "            done = terminated or truncated\n",
    "            state = torch.tensor(np.array([observation]), dtype=torch.float32)\n",
    "        print(score)\n",
    "env.close()"
   ]
  }
 ],
 "metadata": {
  "kernelspec": {
   "display_name": "base",
   "language": "python",
   "name": "python3"
  },
  "language_info": {
   "codemirror_mode": {
    "name": "ipython",
    "version": 3
   },
   "file_extension": ".py",
   "mimetype": "text/x-python",
   "name": "python",
   "nbconvert_exporter": "python",
   "pygments_lexer": "ipython3",
   "version": "3.10.12"
  }
 },
 "nbformat": 4,
 "nbformat_minor": 2
}
